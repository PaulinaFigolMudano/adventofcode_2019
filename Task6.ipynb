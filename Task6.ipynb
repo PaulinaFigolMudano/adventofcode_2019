{
 "cells": [
  {
   "cell_type": "markdown",
   "metadata": {},
   "source": [
    "# --- Day 6: Universal Orbit Map ---\n",
    "You've landed at the Universal Orbit Map facility on Mercury. Because navigation in space often involves transferring between orbits, the orbit maps here are useful for finding efficient routes between, for example, you and Santa. You download a map of the local orbits (your puzzle input).\n",
    "\n",
    "Except for the universal Center of Mass (COM), every object in space is in orbit around exactly one other object. An orbit looks roughly like this:\n",
    "\n",
    "                  \\\n",
    "                   \\\n",
    "                    |\n",
    "                    |\n",
    "AAA--> o            o <--BBB\n",
    "                    |\n",
    "                    |\n",
    "                   /\n",
    "                  /\n",
    "In this diagram, the object BBB is in orbit around AAA. The path that BBB takes around AAA (drawn with lines) is only partly shown. In the map data, this orbital relationship is written AAA)BBB, which means \"BBB is in orbit around AAA\".\n",
    "\n",
    "Before you use your map data to plot a course, you need to make sure it wasn't corrupted during the download. To verify maps, the Universal Orbit Map facility uses orbit count checksums - the total number of direct orbits (like the one shown above) and indirect orbits.\n",
    "\n",
    "Whenever A orbits B and B orbits C, then A indirectly orbits C. This chain can be any number of objects long: if A orbits B, B orbits C, and C orbits D, then A indirectly orbits D.\n",
    "\n",
    "For example, suppose you have the following map:\n",
    "\n",
    "COM)B\n",
    "<br>\n",
    "B)C\n",
    "<br>\n",
    "C)D\n",
    "<br>\n",
    "D)E\n",
    "<br>\n",
    "E)F\n",
    "<br>\n",
    "B)G\n",
    "<br>\n",
    "G)H\n",
    "<br>\n",
    "D)I\n",
    "<br>\n",
    "E)J\n",
    "<br>\n",
    "J)K\n",
    "<br>\n",
    "K)L\n",
    "<br>\n",
    "Visually, the above map of orbits looks like this:\n",
    "\n",
    "        G - H       J - K - L\n",
    "       /           /\n",
    "COM - B - C - D -       E - F\n",
    "               \\\n",
    "                I\n",
    "In this visual representation, when two objects are connected by a line, the one on the right directly orbits the one on the left.\n",
    "\n",
    "Here, we can count the total number of orbits as follows:\n",
    "\n",
    "D directly orbits C and indirectly orbits B and COM, a total of 3 orbits.\n",
    "L directly orbits K and indirectly orbits J, E, D, C, B, and COM, a total of 7 orbits.\n",
    "COM orbits nothing.\n",
    "The total number of direct and indirect orbits in this example is 42.\n",
    "\n",
    "What is the total number of direct and indirect orbits in your map data?"
   ]
  },
  {
   "cell_type": "code",
   "execution_count": 20,
   "metadata": {},
   "outputs": [],
   "source": [
    "a = [\n",
    "'COM)B'\n",
    ",'B)C'\n",
    ",'C)D'\n",
    ",'D)E'\n",
    ",'E)F'\n",
    ",'B)G'\n",
    ",'G)H'\n",
    ",'D)I'\n",
    ",'E)J'\n",
    ",'J)K'\n",
    ",'K)L'\n",
    "]\n",
    "\n",
    "\n",
    "list_of_lists = []\n",
    "\n",
    "with open('data6.txt') as f:\n",
    "    for line in f:\n",
    "        inner_list = [elt.strip() for elt in line.split(',')]\n",
    "        # in alternative, if you need to use the file content as numbers\n",
    "        # inner_list = [int(elt.strip()) for elt in line.split(',')]\n",
    "        list_of_lists.append(inner_list)\n",
    "        \n",
    "import itertools\n",
    "list2d = list_of_lists\n",
    "a = list(itertools.chain(*list2d))\n"
   ]
  },
  {
   "cell_type": "code",
   "execution_count": 21,
   "metadata": {},
   "outputs": [],
   "source": [
    "split_done = [l.split(')') for l in a]"
   ]
  },
  {
   "cell_type": "code",
   "execution_count": 22,
   "metadata": {},
   "outputs": [],
   "source": [
    "planet = [value for value in [l[0] for l in split_done] if value not in [l[1] for l in split_done]]\n",
    "#print(planet)\n",
    "first = [l[0] for l in split_done]\n",
    "#print(first)\n",
    "second = [l[1] for l in split_done]\n",
    "\n",
    "import numpy as np\n",
    "initial_orbits = [l==str(planet[0]) for l in first]\n",
    "idx = [i for i, x in enumerate(initial_orbits) if x]\n",
    "#idx"
   ]
  },
  {
   "cell_type": "code",
   "execution_count": 23,
   "metadata": {},
   "outputs": [],
   "source": [
    "unique = list(set([l[1] for l in split_done]))\n",
    "dictionary = dict()\n",
    "\n",
    "for i in unique:\n",
    "    orbit_position = [l==i for l in second]\n",
    "    idx = [i for i, x in enumerate(orbit_position) if x]\n",
    "    counter = 1\n",
    "    \n",
    "    while split_done[idx[0]][0] != planet[0]:\n",
    "        orbit_position = [l==split_done[idx[0]][0] for l in second]\n",
    "        idx = [i for i, x in enumerate(orbit_position) if x]\n",
    "        counter +=1\n",
    "    dictionary.update( {i : counter} )   \n",
    "    "
   ]
  },
  {
   "cell_type": "code",
   "execution_count": 24,
   "metadata": {},
   "outputs": [
    {
     "name": "stdout",
     "output_type": "stream",
     "text": [
      "281\n",
      "309\n"
     ]
    }
   ],
   "source": [
    "print(list(dictionary.values())[list(dictionary.keys()).index('SAN')])\n",
    "print(list(dictionary.values())[list(dictionary.keys()).index('YOU')])"
   ]
  },
  {
   "cell_type": "code",
   "execution_count": 25,
   "metadata": {},
   "outputs": [
    {
     "data": {
      "text/plain": [
       "273985"
      ]
     },
     "execution_count": 25,
     "metadata": {},
     "output_type": "execute_result"
    }
   ],
   "source": [
    "sum(dictionary.values())"
   ]
  },
  {
   "cell_type": "code",
   "execution_count": 12,
   "metadata": {},
   "outputs": [],
   "source": [
    "#planet = ['YOU']\n",
    "#\n",
    "#first = [l[0] for l in split_done]\n",
    "##print(first)\n",
    "#second = [l[1] for l in split_done]\n",
    "#\n",
    "#import numpy as np\n",
    "#initial_orbits = [l==str(planet[0]) for l in first]\n",
    "#idx = [i for i, x in enumerate(initial_orbits) if x]"
   ]
  },
  {
   "cell_type": "code",
   "execution_count": 1,
   "metadata": {},
   "outputs": [],
   "source": [
    "#unique = list(set([l[1] for l in split_done]))\n",
    "#dictionary = dict()\n",
    "#\n",
    "#for i in unique:\n",
    "#    orbit_position = [l==i for l in second]\n",
    "#    idx = [i for i, x in enumerate(orbit_position) if x]\n",
    "#    counter = 1\n",
    "#    \n",
    "#    while split_done[idx[0]][0] != planet[0]:\n",
    "#        orbit_position = [l==split_done[idx[0]][0] for l in second]\n",
    "#        idx = [i for i, x in enumerate(orbit_position) if x]\n",
    "#        counter +=1\n",
    "#    dictionary.update({i : counter}) "
   ]
  }
 ],
 "metadata": {
  "kernelspec": {
   "display_name": "Python 3",
   "language": "python",
   "name": "python3"
  },
  "language_info": {
   "codemirror_mode": {
    "name": "ipython",
    "version": 3
   },
   "file_extension": ".py",
   "mimetype": "text/x-python",
   "name": "python",
   "nbconvert_exporter": "python",
   "pygments_lexer": "ipython3",
   "version": "3.7.4"
  }
 },
 "nbformat": 4,
 "nbformat_minor": 2
}
